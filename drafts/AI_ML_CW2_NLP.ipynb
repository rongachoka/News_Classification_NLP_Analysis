{
  "cells": [
    {
      "cell_type": "markdown",
      "metadata": {
        "id": "o8EAcelVoOGg"
      },
      "source": [
        "# Articial Intelligence and Machine Learning\n",
        "\n",
        "---\n",
        "\n",
        "## Coursework 2 - 1st diet\n",
        "## Classification of News Articles Using NLP\n",
        "\n",
        "\n",
        "Student Name: Ronald Gachoka <br>\n",
        "Student Email: rgacho300@caledonian.ac.uk <br>\n",
        "Student Number: S2274825 <br>\n",
        "I confirm that the material contained within the submitted coursework is all my own work unless otherwise stated below.\n",
        "\n",
        "---"
      ]
    },
    {
      "cell_type": "markdown",
      "metadata": {
        "id": "e53rNPmmo6Nn"
      },
      "source": [
        "## Project Understanding\n",
        "\n",
        "\n"
      ]
    },
    {
      "cell_type": "code",
      "execution_count": null,
      "metadata": {
        "id": "7MAUN0PLnGPf"
      },
      "outputs": [],
      "source": [
        "import numpy as np\n",
        "import matplotlib.pyplot as plt\n",
        "import pandas as pd\n",
        "import re\n",
        "import seaborn as sns\n",
        "import nltk\n",
        "from nltk.corpus import stopwords\n",
        "from sklearn.metrics import confusion_matrix, classification_report, accuracy_score, classification_report\n",
        "from sklearn.model_selection import train_test_split\n",
        "from tensorflow.keras.layers import (\n",
        "    TextVectorization,\n",
        "    Embedding,\n",
        "    LSTM,\n",
        "    Bidirectional,\n",
        "    Dense,\n",
        "    Embedding,\n",
        ")\n",
        "import tensorflow.keras\n",
        "from tensorflow.keras.models import Sequential\n",
        "from sklearn.feature_selection import SelectKBest, f_classif\n",
        "from sklearn.feature_extraction.text import TfidfVectorizer\n",
        "from sklearn.neighbors import KNeighborsClassifier\n",
        "\n",
        "from wordcloud import WordCloud"
      ]
    },
    {
      "cell_type": "code",
      "execution_count": null,
      "metadata": {},
      "outputs": [],
      "source": []
    }
  ],
  "metadata": {
    "colab": {
      "provenance": []
    },
    "kernelspec": {
      "display_name": "Python 3",
      "name": "python3"
    },
    "language_info": {
      "name": "python"
    }
  },
  "nbformat": 4,
  "nbformat_minor": 0
}
